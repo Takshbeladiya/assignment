{
 "cells": [
  {
   "cell_type": "code",
   "execution_count": null,
   "id": "34ae4115",
   "metadata": {},
   "outputs": [],
   "source": [
    "# Write a Python program to check if a number is positive, negative or zero.\n",
    "\n",
    "a=int(input('Enter the number='))\n",
    "if(a==0):\n",
    "    print('zero')\n",
    "elif 0>a:\n",
    "    print('negative')\n",
    "else:\n",
    "    print('positive')"
   ]
  },
  {
   "cell_type": "code",
   "execution_count": null,
   "id": "7621eb8d",
   "metadata": {},
   "outputs": [],
   "source": [
    "# Write a Python program to get the Factorial number of given number.\n",
    "\n",
    "a=int(input('Enter the number='))\n",
    "b=1\n",
    "for i in range(1,a+1):\n",
    "    b=b*i\n",
    "print(b)"
   ]
  },
  {
   "cell_type": "code",
   "execution_count": null,
   "id": "667f8ac6",
   "metadata": {},
   "outputs": [],
   "source": [
    "# Write a Python program to get the Fibonacci series of given range.\n",
    "\n",
    "d=int(input('Enter the number='))\n",
    "a,b,c=0,1,0\n",
    "for i in range(d):\n",
    "    print(a)\n",
    "    c=a+b\n",
    "    a=b\n",
    "    b=c"
   ]
  },
  {
   "cell_type": "code",
   "execution_count": null,
   "id": "d5565a94",
   "metadata": {},
   "outputs": [],
   "source": [
    "# What is the purpose continue statement in python?\n",
    "# continus statement is used to skip that one iteration "
   ]
  },
  {
   "cell_type": "code",
   "execution_count": null,
   "id": "6ec2a09d",
   "metadata": {},
   "outputs": [],
   "source": [
    "# Write python program that swap two number with temp variable and\n",
    "# without temp variable.\n",
    "\n",
    "a=int(input(\"Enter value of a=\"))\n",
    "b=int(input(\"Enter value of b=\"))\n",
    "\n",
    "# with temp\n",
    "temp=0\n",
    "temp=a\n",
    "a=b\n",
    "b=temp\n",
    "print(\"with temp\")\n",
    "print(\"a=\",a)\n",
    "print(\"b=\",b)\n",
    "\n",
    "#without temp\n",
    "a=int(input(\"Enter value of a=\"))\n",
    "b=int(input(\"Enter value of b=\"))\n",
    "\n",
    "a,b=b,a\n",
    "print(\"without temp\")\n",
    "print(\"a=\",a)\n",
    "print(\"b=\",b)"
   ]
  },
  {
   "cell_type": "code",
   "execution_count": null,
   "id": "6141fd39",
   "metadata": {},
   "outputs": [],
   "source": [
    "# Write a Python program to find whether a given number is even or odd,\n",
    "# print out an appropriate message to the user.\n",
    "\n",
    "a=int(input('Enter the number='))\n",
    "if a%2!=0:\n",
    "    print('number if odd')\n",
    "else:\n",
    "    print('number if even')\n",
    "    \n",
    "#if number is not divisible by 2 then it is odd else it is even "
   ]
  },
  {
   "cell_type": "code",
   "execution_count": null,
   "id": "d6772e14",
   "metadata": {},
   "outputs": [],
   "source": [
    "# Write a Python program to test whether a passed letter is a vowel or not.\n",
    "\n",
    "a=str(input('Enter the alphabate='))\n",
    "if(a=='a' or a=='e' or a=='i' or a=='o' or a=='u'):\n",
    "    print('it is vowel')\n",
    "else:\n",
    "    print('it is not vowel')"
   ]
  },
  {
   "cell_type": "code",
   "execution_count": null,
   "id": "235d7cad",
   "metadata": {},
   "outputs": [],
   "source": [
    "# Write a Python program to sum of three given integers.However, if two\n",
    "# values are equal sum will be zero\n",
    "\n",
    "a=int(input('Enter the a='))\n",
    "b=int(input('Enter the b='))\n",
    "c=int(input('Enter the c='))\n",
    "if a==b or b==c or a==c:\n",
    "    print('0')\n",
    "else:\n",
    "    print(a+b+c)"
   ]
  },
  {
   "cell_type": "code",
   "execution_count": null,
   "id": "c7997e50",
   "metadata": {},
   "outputs": [],
   "source": [
    "# Write a Python program that will return true if the two given integervalues\n",
    "# are equal or their sum or difference is 5.\n",
    "\n",
    "a=int(input('Enter the value of a='))\n",
    "b=int(input('Enter the value of b='))\n",
    "if a==b or a+b==5 or a-b==5:\n",
    "    print('true')\n",
    "else:\n",
    "    print('false')"
   ]
  },
  {
   "cell_type": "code",
   "execution_count": null,
   "id": "952bf770",
   "metadata": {},
   "outputs": [],
   "source": [
    "# Write a python program to sum of the first n positive integers\n",
    "\n",
    "a=int(input('Enter the value of a='))\n",
    "b=0\n",
    "for i in range(1,a+1):\n",
    "    b=b+i\n",
    "print(b)\n"
   ]
  },
  {
   "cell_type": "code",
   "execution_count": null,
   "id": "57373fa8",
   "metadata": {},
   "outputs": [],
   "source": [
    "# Write a Python program to calculate the length of a string\n",
    "\n",
    "a=str(input('Enter the string='))\n",
    "print(len(a))"
   ]
  },
  {
   "cell_type": "code",
   "execution_count": null,
   "id": "49c36647",
   "metadata": {},
   "outputs": [],
   "source": [
    "# Write a Python program to count the number of characters (character\n",
    "# frequency) in a string\n",
    "\n",
    "a=str(input('Enter the string='))\n",
    "b={}\n",
    "for i in a:\n",
    "    if i in b:\n",
    "        b[i]+=1\n",
    "    else:\n",
    "        b[i]=1\n",
    "print(b)"
   ]
  },
  {
   "cell_type": "code",
   "execution_count": null,
   "id": "57806c7d",
   "metadata": {},
   "outputs": [],
   "source": [
    "# What are negative indexes and why are they used?\n",
    "# ans=python support index feature they are used to find the index of character in the string and index of negative start from left \n",
    "# to right from -1 to infinite"
   ]
  },
  {
   "cell_type": "code",
   "execution_count": null,
   "id": "f17428ce",
   "metadata": {},
   "outputs": [],
   "source": [
    "# Write a Python program to count occurrences of a substring in a string\n",
    "\n",
    "a=str(input('Enter the string='))\n",
    "b=str(input('Enter the search string='))\n",
    "print(a.count(b))"
   ]
  },
  {
   "cell_type": "code",
   "execution_count": null,
   "id": "982ab85a",
   "metadata": {},
   "outputs": [],
   "source": [
    "# Write a Python program to count the occurrences of each word in a given\n",
    "# sentence\n",
    "\n",
    "a=str(input('Enter the sentence='))\n",
    "b=str(input('Enter the search string='))\n",
    "\n",
    "c=a.split()\n",
    "print(a.count(b))"
   ]
  },
  {
   "cell_type": "code",
   "execution_count": null,
   "id": "95199b08",
   "metadata": {},
   "outputs": [],
   "source": [
    "# Write a Python program to get a single string from two given strings,\n",
    "# separated by a space and swap the first two characters of each string\n",
    "\n",
    "a=str(input('Enter the string a='))\n",
    "b=str(input('Enter the string b='))\n",
    "\n",
    "x=a[2:]\n",
    "y=a[:2]\n",
    "y=y[::-1]\n",
    "a=y+x\n",
    "\n",
    "k=b[2:]\n",
    "p=b[:2]\n",
    "p=p[::-1]\n",
    "b=p+k\n",
    "\n",
    "a=a+' '+b\n",
    "print(a)"
   ]
  },
  {
   "cell_type": "code",
   "execution_count": null,
   "id": "5299bdd7",
   "metadata": {},
   "outputs": [],
   "source": [
    "# Write a Python program to add 'ing' at the end of a given string (length\n",
    "# should be at least 3). If the given string already ends with 'ing' then add 'ly'\n",
    "# instead if the string length of the given string is less than 3, leave it\n",
    "# unchanged.\n",
    "\n",
    "a=str(input('Enter the string a='))\n",
    "c='ly'\n",
    "g='ing'\n",
    "if len(a)>3:\n",
    "    if(a.count(g)==0):\n",
    "        print(a+''+c)\n",
    "    else:\n",
    "        a=a.replace('ing','ly')\n",
    "    print(a)\n",
    "else:\n",
    "    print(a)"
   ]
  },
  {
   "cell_type": "code",
   "execution_count": null,
   "id": "a248ff7d",
   "metadata": {},
   "outputs": [],
   "source": [
    "# Write a Python program to find the first appearance of the substring 'not'\n",
    "# and 'poor' froma given string, if 'not' follows the 'poor', replace the whole\n",
    "# 'not'...'poor'substring with 'good'. Return the resulting string.\n",
    "\n",
    "a=str(input('Enter the sentence='))\n",
    "a=a.split()\n",
    "if a.count('not')>=1 and a.count('poor')>=1:\n",
    "    b=a.index('not')\n",
    "    c=a.index('poor')\n",
    "\n",
    "    z=[]\n",
    "    if b<c:\n",
    "        for i in a:\n",
    "            if i!='not':\n",
    "                z.append(i)\n",
    "            else:\n",
    "                z.append('good')\n",
    "                break\n",
    "\n",
    "    print(' '.join(z))\n",
    "\n",
    "else:\n",
    "    print(' '.join(a))"
   ]
  },
  {
   "cell_type": "code",
   "execution_count": null,
   "id": "989fe6cf",
   "metadata": {},
   "outputs": [],
   "source": [
    "# Write a Python function that takes a list of words and returns the length\n",
    "# of the longest one\n",
    "\n",
    "a=str(input('Enter the sentence='))\n",
    "a=a.split()\n",
    "big=len(a[0])\n",
    "for i in range(len(a)):\n",
    "    if len(a[i]) > big:\n",
    "        big=len(a[i])\n",
    "        ind=i\n",
    "print(a[ind])"
   ]
  },
  {
   "cell_type": "code",
   "execution_count": null,
   "id": "981356b9",
   "metadata": {},
   "outputs": [],
   "source": [
    "# Write a Python function to reverses a string if its length is a multiple of 4\n",
    "\n",
    "a=str(input('Enter the sentence='))\n",
    "if len(a)%4==0:\n",
    "    print(a[::-1])\n",
    "else:\n",
    "    print(a)"
   ]
  },
  {
   "cell_type": "code",
   "execution_count": null,
   "id": "09372e66",
   "metadata": {},
   "outputs": [],
   "source": [
    "# Write a Python program to get a string made of the first 2 and the last 2\n",
    "# chars from a given a string. If the string length is less than 2,return instead\n",
    "# of the empty string.\n",
    "# o Sample String:w3resource'\n",
    "# o Expected Result: 'w3ce'\n",
    "# o Sample String: 'w3'\n",
    "# o Expected Result: 'w3w3'\n",
    "# o Sample String: ' w'\n",
    "# o Expected Result: Empty String\n",
    "\n",
    "a=str(input('Enter the sentence='))\n",
    "if len(a)>2:\n",
    "    print(a[:2]+a[-2:])\n",
    "elif len(a)==2:\n",
    "    print(a*2)\n",
    "else:\n",
    "    print('Empty String')"
   ]
  },
  {
   "cell_type": "code",
   "execution_count": 1,
   "id": "beba982b",
   "metadata": {},
   "outputs": [
    {
     "name": "stdout",
     "output_type": "stream",
     "text": [
      "Enter the sentence=there is aeroplane\n",
      "Enter the middle string=big\n",
      "string location=3\n",
      "there is big aeroplane "
     ]
    }
   ],
   "source": [
    "# Write a Python function to insert a string in the middle of a string.\n",
    "\n",
    "a=str(input('Enter the sentence='))\n",
    "b=str(input('Enter the middle string='))\n",
    "c=int(input('string location='))\n",
    "\n",
    "a=a.split()\n",
    "p=0\n",
    "\n",
    "for i in a:\n",
    "    p+=1\n",
    "\n",
    "n=0\n",
    "if p<c:\n",
    "    print('not possible')\n",
    "else:\n",
    "    for i in a:\n",
    "        n+=1\n",
    "        if n==c:\n",
    "            print(b,end=' ')\n",
    "        print(i,end=' ')"
   ]
  },
  {
   "cell_type": "code",
   "execution_count": null,
   "id": "9c8c827c",
   "metadata": {},
   "outputs": [],
   "source": []
  }
 ],
 "metadata": {
  "kernelspec": {
   "display_name": "Python 3 (ipykernel)",
   "language": "python",
   "name": "python3"
  },
  "language_info": {
   "codemirror_mode": {
    "name": "ipython",
    "version": 3
   },
   "file_extension": ".py",
   "mimetype": "text/x-python",
   "name": "python",
   "nbconvert_exporter": "python",
   "pygments_lexer": "ipython3",
   "version": "3.9.12"
  }
 },
 "nbformat": 4,
 "nbformat_minor": 5
}
