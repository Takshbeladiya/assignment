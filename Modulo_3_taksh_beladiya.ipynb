{
 "cells": [
  {
   "cell_type": "code",
   "execution_count": null,
   "id": "71e48ca1",
   "metadata": {},
   "outputs": [],
   "source": [
    "#  What is List? How will you reverse a list?\n",
    "# list is a combination of all different types of elements which has address of eaach elements"
   ]
  },
  {
   "cell_type": "code",
   "execution_count": 2,
   "id": "e5cb3796",
   "metadata": {},
   "outputs": [
    {
     "name": "stdout",
     "output_type": "stream",
     "text": [
      "['a', 'b', 'c']\n"
     ]
    }
   ],
   "source": [
    "#How will you remove last object from a list?\n",
    "a=['a','b','c','d']\n",
    "a.pop(3)\n",
    "print(a)"
   ]
  },
  {
   "cell_type": "code",
   "execution_count": null,
   "id": "1c90143b",
   "metadata": {},
   "outputs": [],
   "source": [
    "# Suppose list1 is [2, 33, 222, 14, and 25], what is list1 [-1]?\n",
    "list1=[2, 33, 222, 14,25]\n",
    "print(list1[-1])\n",
    "#ans=25"
   ]
  },
  {
   "cell_type": "code",
   "execution_count": null,
   "id": "5a723a38",
   "metadata": {},
   "outputs": [],
   "source": [
    "# Differentiate between append () and extend () methods?\n",
    "# append method only add one element do not matter which datatype but it should be only one element\n",
    "# extend method add all the element from that single element or add the single element in the end\n"
   ]
  },
  {
   "cell_type": "code",
   "execution_count": null,
   "id": "0e7cabc7",
   "metadata": {},
   "outputs": [],
   "source": [
    "# Write a Python funcion to get the largest number,smallest num and sum\n",
    "# of all from a list.\n",
    "\n",
    "a=[2,4,3,1]\n",
    "print('largest='+max(a))\n",
    "print('smallest='+min(a))\n",
    "print('sum='+sum(a))"
   ]
  },
  {
   "cell_type": "code",
   "execution_count": null,
   "id": "58222c07",
   "metadata": {},
   "outputs": [],
   "source": [
    "# How will you compare two lists?\n",
    "# by equal,// operator '=='"
   ]
  },
  {
   "cell_type": "code",
   "execution_count": 10,
   "id": "0ed286f4",
   "metadata": {},
   "outputs": [
    {
     "name": "stdout",
     "output_type": "stream",
     "text": [
      "there is a ac car t\n",
      "6\n"
     ]
    }
   ],
   "source": [
    "# Write a Python program to count the number of strings where the string\n",
    "# length is 2 or more and the first and last character are same from a given\n",
    "# list of strings.\n",
    "\n",
    "str1=str(input())\n",
    "if (str1[0]==str1[-1]) and (len(str1)>=2):\n",
    "    str1=str1.split()\n",
    "    print(len(str1))\n",
    "else:\n",
    "    print(\"string is wrong\")\n",
    "    \n",
    "        \n",
    "    "
   ]
  },
  {
   "cell_type": "code",
   "execution_count": 11,
   "id": "ff9d983b",
   "metadata": {},
   "outputs": [
    {
     "name": "stdout",
     "output_type": "stream",
     "text": [
      "[1, 2, 3]\n"
     ]
    }
   ],
   "source": [
    "# Write a Python program to remove duplicates from a list.\n",
    "\n",
    "list1=int(input())\n",
    "ans=[]\n",
    "for i in list1:\n",
    "    if i not in ans:\n",
    "        ans.append(i)\n",
    "print(ans)\n",
    "        "
   ]
  },
  {
   "cell_type": "code",
   "execution_count": 14,
   "id": "0e41dbae",
   "metadata": {},
   "outputs": [
    {
     "name": "stdout",
     "output_type": "stream",
     "text": [
      "1234\n",
      "not Empty list\n"
     ]
    }
   ],
   "source": [
    "# Write a Python program to check a list is empty or not.\n",
    "\n",
    "list1=map(int,input().split())\n",
    "if list1 == []:\n",
    "    print('Empty list')\n",
    "else:\n",
    "    print('not Empty list')"
   ]
  },
  {
   "cell_type": "code",
   "execution_count": 19,
   "id": "3f78e96e",
   "metadata": {},
   "outputs": [
    {
     "name": "stdout",
     "output_type": "stream",
     "text": [
      "True\n"
     ]
    }
   ],
   "source": [
    "# Write a Python function that takes two lists and returns true if they have\n",
    "# at least one common member.\n",
    "\n",
    "list1=[1,2,3,4,5]\n",
    "list2=[2,3,7,8,9]\n",
    "count=0\n",
    "for i in list1:\n",
    "    for j in list2:\n",
    "        if i==j:\n",
    "            count+=1\n",
    "            \n",
    "        \n",
    "if count==0:\n",
    "    print('False')\n",
    "else:\n",
    "    print('True')\n"
   ]
  },
  {
   "cell_type": "code",
   "execution_count": 35,
   "id": "42d7628d",
   "metadata": {},
   "outputs": [
    {
     "name": "stdout",
     "output_type": "stream",
     "text": [
      "[5, 4, 3, 2, 1]\n"
     ]
    }
   ],
   "source": [
    "count=0\n",
    "list1=[]\n",
    "for i in range(30,0,-1):\n",
    "    if count<=5:\n",
    "        if (i**2)<=30:\n",
    "            list1.append(i)\n",
    "            count+=1\n",
    "for j in range(30):\n",
    "    if count==6:\n",
    "        if (j**2)<=30:\n",
    "            list1.append(i)\n",
    "print(list1)\n",
    "\n",
    "    "
   ]
  },
  {
   "cell_type": "code",
   "execution_count": 36,
   "id": "d475b456",
   "metadata": {},
   "outputs": [
    {
     "name": "stdout",
     "output_type": "stream",
     "text": [
      "[1, 2, 3, 4]\n"
     ]
    }
   ],
   "source": [
    "# Write a Python function that takes a list and returns a new list with unique\n",
    "# elements of the first list.\n",
    "\n",
    "list1=[1,2,2,3,4]\n",
    "ans=[]\n",
    "for i in list1:\n",
    "    if i not in ans:\n",
    "        ans.append(i)\n",
    "print(ans)"
   ]
  },
  {
   "cell_type": "code",
   "execution_count": 39,
   "id": "b771dc2c",
   "metadata": {},
   "outputs": [
    {
     "name": "stdout",
     "output_type": "stream",
     "text": [
      "taksh\n"
     ]
    }
   ],
   "source": [
    "# Write a Python program to convert a list of characters into a string.\n",
    "a=['t','a','k','s','h']\n",
    "print(''.join(a))"
   ]
  },
  {
   "cell_type": "code",
   "execution_count": 42,
   "id": "48e1b883",
   "metadata": {},
   "outputs": [
    {
     "name": "stdout",
     "output_type": "stream",
     "text": [
      "2\n"
     ]
    }
   ],
   "source": [
    "#  Write a Python program to select an item randomly from a list.\n",
    "import random\n",
    "list1=[1,2,4,6,2]\n",
    "print(random.choice(list1))\n"
   ]
  },
  {
   "cell_type": "code",
   "execution_count": 43,
   "id": "d462d2b8",
   "metadata": {},
   "outputs": [
    {
     "name": "stdout",
     "output_type": "stream",
     "text": [
      "2\n"
     ]
    }
   ],
   "source": [
    "# Write a Python program to find the second smallest number in a list.\n",
    "list1=[3,4,2,5]\n",
    "print(min(list1))"
   ]
  },
  {
   "cell_type": "code",
   "execution_count": null,
   "id": "c487c4fd",
   "metadata": {},
   "outputs": [],
   "source": [
    "# Write a Python program to get unique values from a list"
   ]
  },
  {
   "cell_type": "code",
   "execution_count": 63,
   "id": "c73c0d98",
   "metadata": {},
   "outputs": [
    {
     "name": "stdout",
     "output_type": "stream",
     "text": [
      "yes\n"
     ]
    }
   ],
   "source": [
    "# Write a Python program to check whether a list contains a sub list\n",
    "list1=[2,3,4,5,3,4,2]\n",
    "sub_list=[5,3,4]\n",
    "count+=1\n",
    "for i in range(len(list1)):   \n",
    "    if list1[i:i+len(sub_list)]==sub_list:\n",
    "        count=1\n",
    "if count==1:\n",
    "    print('yes')\n",
    "else:\n",
    "    print('no')"
   ]
  },
  {
   "cell_type": "code",
   "execution_count": null,
   "id": "30890fbe",
   "metadata": {},
   "outputs": [],
   "source": [
    "# Write a Python program to split a list into different variables.\n"
   ]
  }
 ],
 "metadata": {
  "kernelspec": {
   "display_name": "Python 3 (ipykernel)",
   "language": "python",
   "name": "python3"
  },
  "language_info": {
   "codemirror_mode": {
    "name": "ipython",
    "version": 3
   },
   "file_extension": ".py",
   "mimetype": "text/x-python",
   "name": "python",
   "nbconvert_exporter": "python",
   "pygments_lexer": "ipython3",
   "version": "3.9.12"
  }
 },
 "nbformat": 4,
 "nbformat_minor": 5
}
