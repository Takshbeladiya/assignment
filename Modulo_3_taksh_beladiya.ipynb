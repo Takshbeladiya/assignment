{
 "cells": [
  {
   "cell_type": "code",
   "execution_count": null,
   "id": "71e48ca1",
   "metadata": {},
   "outputs": [],
   "source": [
    "#  What is List? How will you reverse a list?\n",
    "# list is a combination of all different types of elements which has address of eaach elements"
   ]
  },
  {
   "cell_type": "code",
   "execution_count": 2,
   "id": "e5cb3796",
   "metadata": {},
   "outputs": [
    {
     "name": "stdout",
     "output_type": "stream",
     "text": [
      "['a', 'b', 'c']\n"
     ]
    }
   ],
   "source": [
    "#How will you remove last object from a list?\n",
    "a=['a','b','c','d']\n",
    "a.pop(3)\n",
    "print(a)"
   ]
  },
  {
   "cell_type": "code",
   "execution_count": null,
   "id": "1c90143b",
   "metadata": {},
   "outputs": [],
   "source": [
    "# Suppose list1 is [2, 33, 222, 14, and 25], what is list1 [-1]?\n",
    "list1=[2, 33, 222, 14,25]\n",
    "print(list1[-1])\n",
    "#ans=25"
   ]
  },
  {
   "cell_type": "code",
   "execution_count": null,
   "id": "5a723a38",
   "metadata": {},
   "outputs": [],
   "source": [
    "# Differentiate between append () and extend () methods?\n",
    "# append method only add one element do not matter which datatype but it should be only one element\n",
    "# extend method add all the element from that single element or add the single element in the end\n"
   ]
  },
  {
   "cell_type": "code",
   "execution_count": null,
   "id": "0e7cabc7",
   "metadata": {},
   "outputs": [],
   "source": [
    "# Write a Python funcion to get the largest number,smallest num and sum\n",
    "# of all from a list.\n",
    "\n",
    "a=[2,4,3,1]\n",
    "print('largest='+max(a))\n",
    "print('smallest='+min(a))\n",
    "print('sum='+sum(a))"
   ]
  },
  {
   "cell_type": "code",
   "execution_count": null,
   "id": "58222c07",
   "metadata": {},
   "outputs": [],
   "source": [
    "# How will you compare two lists?\n",
    "# by equal,// operator '=='"
   ]
  },
  {
   "cell_type": "code",
   "execution_count": 10,
   "id": "0ed286f4",
   "metadata": {},
   "outputs": [
    {
     "name": "stdout",
     "output_type": "stream",
     "text": [
      "there is a ac car t\n",
      "6\n"
     ]
    }
   ],
   "source": [
    "# Write a Python program to count the number of strings where the string\n",
    "# length is 2 or more and the first and last character are same from a given\n",
    "# list of strings.\n",
    "\n",
    "str1=str(input())\n",
    "if (str1[0]==str1[-1]) and (len(str1)>=2):\n",
    "    str1=str1.split()\n",
    "    print(len(str1))\n",
    "else:\n",
    "    print(\"string is wrong\")\n",
    "    \n",
    "        \n",
    "    "
   ]
  },
  {
   "cell_type": "code",
   "execution_count": 11,
   "id": "ff9d983b",
   "metadata": {},
   "outputs": [
    {
     "name": "stdout",
     "output_type": "stream",
     "text": [
      "[1, 2, 3]\n"
     ]
    }
   ],
   "source": [
    "# Write a Python program to remove duplicates from a list.\n",
    "\n",
    "list1=int(input())\n",
    "ans=[]\n",
    "for i in list1:\n",
    "    if i not in ans:\n",
    "        ans.append(i)\n",
    "print(ans)\n",
    "        "
   ]
  },
  {
   "cell_type": "code",
   "execution_count": 14,
   "id": "0e41dbae",
   "metadata": {},
   "outputs": [
    {
     "name": "stdout",
     "output_type": "stream",
     "text": [
      "1234\n",
      "not Empty list\n"
     ]
    }
   ],
   "source": [
    "# Write a Python program to check a list is empty or not.\n",
    "\n",
    "list1=map(int,input().split())\n",
    "if list1 == []:\n",
    "    print('Empty list')\n",
    "else:\n",
    "    print('not Empty list')"
   ]
  },
  {
   "cell_type": "code",
   "execution_count": 19,
   "id": "3f78e96e",
   "metadata": {},
   "outputs": [
    {
     "name": "stdout",
     "output_type": "stream",
     "text": [
      "True\n"
     ]
    }
   ],
   "source": [
    "# Write a Python function that takes two lists and returns true if they have\n",
    "# at least one common member.\n",
    "\n",
    "list1=[1,2,3,4,5]\n",
    "list2=[2,3,7,8,9]\n",
    "count=0\n",
    "for i in list1:\n",
    "    for j in list2:\n",
    "        if i==j:\n",
    "            count+=1\n",
    "            \n",
    "if count==0:\n",
    "    print('False')\n",
    "else:\n",
    "    print('True')\n"
   ]
  },
  {
   "cell_type": "code",
   "execution_count": 9,
   "id": "42d7628d",
   "metadata": {},
   "outputs": [
    {
     "name": "stdout",
     "output_type": "stream",
     "text": [
      "[1, 4, 9, 16, 25, 729, 784, 841, 900, 961]\n"
     ]
    }
   ],
   "source": [
    "# Write a Python program to generate and print a list of first and last 5\n",
    "# elements where the values are square of numbers between 1 and 30.\n",
    "\n",
    "count=0\n",
    "list1=[]\n",
    "while(count<=30):\n",
    "    count+=1\n",
    "    list1.append(count**2)\n",
    "print(list1[:5]+list1[-5:])\n",
    "\n",
    "    "
   ]
  },
  {
   "cell_type": "code",
   "execution_count": 7,
   "id": "d475b456",
   "metadata": {},
   "outputs": [
    {
     "name": "stdout",
     "output_type": "stream",
     "text": [
      "[1, 2, 3, 4]\n"
     ]
    }
   ],
   "source": [
    "# Write a Python function that takes a list and returns a new list with unique\n",
    "# elements of the first list.\n",
    "\n",
    "list1=[1,2,2,3,4]\n",
    "ans=[]\n",
    "for i in list1:\n",
    "    if i not in ans:\n",
    "        ans.append(i)\n",
    "print(ans)"
   ]
  },
  {
   "cell_type": "code",
   "execution_count": 39,
   "id": "b771dc2c",
   "metadata": {},
   "outputs": [
    {
     "name": "stdout",
     "output_type": "stream",
     "text": [
      "taksh\n"
     ]
    }
   ],
   "source": [
    "# Write a Python program to convert a list of characters into a string.\n",
    "a=['t','a','k','s','h']\n",
    "print(''.join(a))"
   ]
  },
  {
   "cell_type": "code",
   "execution_count": 42,
   "id": "48e1b883",
   "metadata": {},
   "outputs": [
    {
     "name": "stdout",
     "output_type": "stream",
     "text": [
      "2\n"
     ]
    }
   ],
   "source": [
    "#  Write a Python program to select an item randomly from a list.\n",
    "import random\n",
    "list1=[1,2,4,6,2]\n",
    "print(random.choice(list1))\n"
   ]
  },
  {
   "cell_type": "code",
   "execution_count": 43,
   "id": "d462d2b8",
   "metadata": {},
   "outputs": [
    {
     "name": "stdout",
     "output_type": "stream",
     "text": [
      "2\n"
     ]
    }
   ],
   "source": [
    "# Write a Python program to find the second smallest number in a list.\n",
    "list1=[3,4,2,5]\n",
    "print(min(list1))"
   ]
  },
  {
   "cell_type": "code",
   "execution_count": 4,
   "id": "c487c4fd",
   "metadata": {},
   "outputs": [
    {
     "name": "stdout",
     "output_type": "stream",
     "text": [
      "2 3\n"
     ]
    },
    {
     "ename": "TypeError",
     "evalue": "list indices must be integers or slices, not str",
     "output_type": "error",
     "traceback": [
      "\u001b[1;31m---------------------------------------------------------------------------\u001b[0m",
      "\u001b[1;31mTypeError\u001b[0m                                 Traceback (most recent call last)",
      "Input \u001b[1;32mIn [4]\u001b[0m, in \u001b[0;36m<cell line: 5>\u001b[1;34m()\u001b[0m\n\u001b[0;32m      7\u001b[0m     list1\u001b[38;5;241m.\u001b[39mappend(a)\n\u001b[0;32m      8\u001b[0m \u001b[38;5;28;01melse\u001b[39;00m:\n\u001b[1;32m----> 9\u001b[0m     \u001b[38;5;28mprint\u001b[39m(\u001b[43mlist1\u001b[49m\u001b[43m[\u001b[49m\u001b[43mi\u001b[49m\u001b[43m]\u001b[49m)\n",
      "\u001b[1;31mTypeError\u001b[0m: list indices must be integers or slices, not str"
     ]
    }
   ],
   "source": [
    "# Write a Python program to get unique values from a list\n",
    "\n",
    "list1=list(input().split(' '))\n",
    "a={}\n",
    "for i in list1:\n",
    "    if i not in list1:\n",
    "        list1.append(a)\n",
    "    else:\n",
    "        print(list1[i])"
   ]
  },
  {
   "cell_type": "code",
   "execution_count": 3,
   "id": "c73c0d98",
   "metadata": {},
   "outputs": [
    {
     "name": "stdout",
     "output_type": "stream",
     "text": [
      "yes 2 times\n"
     ]
    }
   ],
   "source": [
    "# Write a Python program to check whether a list contains a sub list\n",
    "list1=[2,5,4,5,5,4,1]\n",
    "sub_list=[5,4,5]\n",
    "count=0\n",
    "for i in range(len(list1)):   \n",
    "    if list1[i:i+len(sub_list)]==sub_list:\n",
    "        count+=1\n",
    "if count>0:\n",
    "    print(f'yes {count} times')\n",
    "else:\n",
    "    print('no')"
   ]
  },
  {
   "cell_type": "code",
   "execution_count": 10,
   "id": "30890fbe",
   "metadata": {},
   "outputs": [
    {
     "name": "stdout",
     "output_type": "stream",
     "text": [
      "34\n",
      "32\n",
      "11\n"
     ]
    }
   ],
   "source": [
    "# Write a Python program to split a list into different variables.\n",
    "\n",
    "var1,var2,var3=(34,32,11)\n",
    "print(var1)\n",
    "print(var2)\n",
    "print(var3)"
   ]
  },
  {
   "cell_type": "code",
   "execution_count": null,
   "id": "c244886f",
   "metadata": {},
   "outputs": [],
   "source": [
    "# What is tuple? Difference between list and tuple\n",
    "\n",
    "# tuple is a datatype in python what have same characteristcs as list which the only difference is it is immutable"
   ]
  },
  {
   "cell_type": "code",
   "execution_count": 11,
   "id": "d046d902",
   "metadata": {},
   "outputs": [
    {
     "name": "stdout",
     "output_type": "stream",
     "text": [
      "(1, 3.45, 'taksh', [3, 4, 2], ('hello', 4.21), {2, 45}, {'a': 4, 'b': 99})\n"
     ]
    }
   ],
   "source": [
    "# Write a Python program to create a tuple with different data types\n",
    "\n",
    "tup1=(1,3.45,'taksh',[3,4,2],('hello',4.21),{45,2},{'a':4,'b':99})\n",
    "print(tup1)"
   ]
  },
  {
   "cell_type": "code",
   "execution_count": 22,
   "id": "ce9a7057",
   "metadata": {},
   "outputs": [
    {
     "name": "stdout",
     "output_type": "stream",
     "text": [
      "(0, 1, 2, 3, 4, 5, 6, 7, 8, 9, 10, 11, 12, 13, 14, 15, 16, 17, 18, 19, 20, 21, 22, 23, 24, 25, 26, 27, 28, 29)\n"
     ]
    }
   ],
   "source": [
    "# Write a Python program to create a tuple with number\n",
    "\n",
    "tup1=[x for x in range(30)]\n",
    "print(tuple(tup1))"
   ]
  },
  {
   "cell_type": "code",
   "execution_count": 23,
   "id": "ac800d22",
   "metadata": {},
   "outputs": [
    {
     "name": "stdout",
     "output_type": "stream",
     "text": [
      "taksh\n"
     ]
    }
   ],
   "source": [
    "#  Write a Python program to convert a tuple to a string.\n",
    "\n",
    "a=('t','a','k','s','h')\n",
    "print(''.join(a))"
   ]
  },
  {
   "cell_type": "code",
   "execution_count": 25,
   "id": "2fa509d6",
   "metadata": {},
   "outputs": [
    {
     "name": "stdout",
     "output_type": "stream",
     "text": [
      "0\n"
     ]
    }
   ],
   "source": [
    "#  Write a Python program to check whether an element exists within a\n",
    "# tuple\n",
    "\n",
    "a=(2,3,4,1,55)\n",
    "print(a.index(2))"
   ]
  },
  {
   "cell_type": "code",
   "execution_count": 26,
   "id": "0ecfcfb8",
   "metadata": {},
   "outputs": [
    {
     "name": "stdout",
     "output_type": "stream",
     "text": [
      "5\n"
     ]
    }
   ],
   "source": [
    "# Write a Python program to find the length of a tuple.\n",
    "\n",
    "tup1=(2,3,4,1,55)\n",
    "print(len(tup1))"
   ]
  },
  {
   "cell_type": "code",
   "execution_count": 27,
   "id": "7c32d32f",
   "metadata": {},
   "outputs": [
    {
     "name": "stdout",
     "output_type": "stream",
     "text": [
      "(2, 3, 4, 1, 55)\n"
     ]
    }
   ],
   "source": [
    "# Write a Python program to convert a list to a tuple\n",
    "\n",
    "list1=[2,3,4,1,55]\n",
    "print(tuple(list1))"
   ]
  },
  {
   "cell_type": "code",
   "execution_count": 29,
   "id": "c8cb3e06",
   "metadata": {},
   "outputs": [
    {
     "name": "stdout",
     "output_type": "stream",
     "text": [
      "(4, 3, 2, 1)\n"
     ]
    }
   ],
   "source": [
    "# Write a Python program to reverse a tuple.\n",
    "\n",
    "a=(1,2,3,4)\n",
    "print(a[::-1])"
   ]
  },
  {
   "cell_type": "code",
   "execution_count": 42,
   "id": "7a1e1251",
   "metadata": {},
   "outputs": [
    {
     "name": "stdout",
     "output_type": "stream",
     "text": [
      "[(1, 2, 100), (4, 5, 100), (7, 8, 100)]\n"
     ]
    }
   ],
   "source": [
    "# Write a Python program to replace last value of tuples in a list.\n",
    "\n",
    "tup1=((1,2,3),(4,5,6),(7,8,9))\n",
    "print([i[:-1]+(100,) for i in tup1])"
   ]
  },
  {
   "cell_type": "code",
   "execution_count": 48,
   "id": "7f22940e",
   "metadata": {},
   "outputs": [
    {
     "name": "stdout",
     "output_type": "stream",
     "text": [
      "1\n",
      "2\n",
      "3\n"
     ]
    }
   ],
   "source": [
    "# Write a Python program to find the repeated items of a tuple\n",
    "\n",
    "tup1=(1,1,2,2,3,3,4,5,6)\n",
    "new=[]\n",
    "for i in tup1:\n",
    "    if i not in new:\n",
    "        if tup1.count(i)>1:\n",
    "            print(i)\n",
    "            new.append(i)\n",
    "        "
   ]
  },
  {
   "cell_type": "code",
   "execution_count": 10,
   "id": "a63232c4",
   "metadata": {},
   "outputs": [
    {
     "name": "stdout",
     "output_type": "stream",
     "text": [
      "[(3, 4, 5), (3, 'tak'), (3.44, 'tree')]\n"
     ]
    }
   ],
   "source": [
    "#  Write a Python program to remove an empty tuple(s) from a list of tuples.\n",
    "\n",
    "list1=[(3,4,5),(),(3,'tak'),(3.44,'tree')]\n",
    "ans=list(filter(lambda x: (x!=()) ,list1))\n",
    "print(ans)"
   ]
  },
  {
   "cell_type": "code",
   "execution_count": 16,
   "id": "0542e7ae",
   "metadata": {},
   "outputs": [
    {
     "name": "stdout",
     "output_type": "stream",
     "text": [
      "[3, 4, 5, 3, 'tak', 3.44, 'tree']\n"
     ]
    }
   ],
   "source": [
    "#  Write a Python program to unzip a list of tuples into individual lists.\n",
    "\n",
    "list1=[(3,4,5),(),(3,'tak'),(3.44,'tree')]\n",
    "ans=[]\n",
    "for i in list1:\n",
    "    if type(i)==tuple:\n",
    "        for k in i:\n",
    "            ans.append(k)\n",
    "            \n",
    "print(ans)"
   ]
  },
  {
   "cell_type": "code",
   "execution_count": 22,
   "id": "72546f0f",
   "metadata": {},
   "outputs": [
    {
     "name": "stdout",
     "output_type": "stream",
     "text": [
      "{'tree': 4.33, 2: 66, 4.44: 'car'}\n"
     ]
    }
   ],
   "source": [
    "#  Write a Python program to convert a list of tuples into a dictionary.\n",
    "\n",
    "list1=[('tree',4.33),(2,66),(4.44,'car')]\n",
    "\n",
    "# print(dict(list1))\n",
    "#or \n",
    "ans={}\n",
    "for value in (list1):\n",
    "    ans[value[0]]=value[1]\n",
    "print(ans)"
   ]
  },
  {
   "cell_type": "code",
   "execution_count": 41,
   "id": "9b286767",
   "metadata": {},
   "outputs": [
    {
     "name": "stdout",
     "output_type": "stream",
     "text": [
      "{'tree': 4, 3.33: 'car', 3: 5.45}\n"
     ]
    }
   ],
   "source": [
    "#  How will you create a dictionary using tuples in python?\n",
    "tup1=(('tree',4),(3.33,'car'),(3,5.45))\n",
    "dict1={}\n",
    "ans=list(filter(lambda a: dict1.setdefault(a[0],a[1]) ,tup1))\n",
    "print(dict1)"
   ]
  },
  {
   "cell_type": "code",
   "execution_count": 43,
   "id": "4e98c2fe",
   "metadata": {},
   "outputs": [
    {
     "name": "stdout",
     "output_type": "stream",
     "text": [
      "{'tree': 1, 'plane': 2, 'car': 3, 'key': 10}\n",
      "{'key': 10, 'car': 3, 'plane': 2, 'tree': 1}\n"
     ]
    }
   ],
   "source": [
    "#  Write a Python script to sort (ascending and descending) a dictionary by\n",
    "# value.\n",
    "\n",
    "dict1={'tree':1 ,'car':3 ,'plane':2 ,'key':10}\n",
    "asc=dict(sorted(dict1.items(),key=lambda item:item[1]))\n",
    "dec=dict(sorted(dict1.items(),key=lambda item:item[1] ,reverse=True))\n",
    "print(asc)\n",
    "print(dec)"
   ]
  },
  {
   "cell_type": "code",
   "execution_count": 49,
   "id": "2ddc4e1a",
   "metadata": {},
   "outputs": [
    {
     "name": "stdout",
     "output_type": "stream",
     "text": [
      "{'tree': 3, 'car': 2.33, 4: 1.11, 22: 999}\n"
     ]
    }
   ],
   "source": [
    "#  Write a Python script to concatenate following dictionaries to create a\n",
    "# new one.\n",
    "\n",
    "dict1={'tree':3 ,'car':2.33}\n",
    "dict2={4:1.11 ,22:999}\n",
    "\n",
    "for i in dict2:\n",
    "    dict1.setdefault(i,dict2[i])\n",
    "    \n",
    "print(dict1)"
   ]
  },
  {
   "cell_type": "code",
   "execution_count": 58,
   "id": "890dad24",
   "metadata": {},
   "outputs": [
    {
     "name": "stdout",
     "output_type": "stream",
     "text": [
      "key is present\n"
     ]
    }
   ],
   "source": [
    "#  Write a Python script to check if a given key already exists in a dictionary.\n",
    "\n",
    "dict1={'tree':3 , 4:3 ,'car':2.25}\n",
    "key='tree'\n",
    "count=0\n",
    "for i in dict1:\n",
    "    if i==key:\n",
    "        count+=1\n",
    "        \n",
    "if count!=0:\n",
    "    print('key is present')\n",
    "else:\n",
    "    print('key if not present')\n"
   ]
  },
  {
   "cell_type": "code",
   "execution_count": null,
   "id": "56551811",
   "metadata": {},
   "outputs": [],
   "source": [
    "# How Do You Traverse Through A Dictionary Object In Python?"
   ]
  },
  {
   "cell_type": "code",
   "execution_count": 15,
   "id": "ba8cf827",
   "metadata": {},
   "outputs": [
    {
     "name": "stdout",
     "output_type": "stream",
     "text": [
      "present\n"
     ]
    }
   ],
   "source": [
    "#  How Do You Check The Presence Of A Key In A Dictionary?\n",
    "\n",
    "dict1={'tak':23}\n",
    "if len(dict1)>=1:\n",
    "    print('present')\n",
    "else:\n",
    "    print('not present')"
   ]
  },
  {
   "cell_type": "code",
   "execution_count": 64,
   "id": "7be9e0a4",
   "metadata": {},
   "outputs": [
    {
     "name": "stdout",
     "output_type": "stream",
     "text": [
      "{4: 3, 10: 4}\n"
     ]
    }
   ],
   "source": [
    "# Write a Python script to print a dictionary where the keys are numbers\n",
    "# between 1 and 15.\n",
    "\n",
    "dict1={'tree':3 , 4:3 ,'car':2.25 ,10:4}\n",
    "ans={}\n",
    "for i in dict1:\n",
    "    if type(i)==int:\n",
    "        if i<15:\n",
    "            ans.setdefault(i,dict1[i])\n",
    "            \n",
    "print(ans)"
   ]
  },
  {
   "cell_type": "code",
   "execution_count": 18,
   "id": "35e95239",
   "metadata": {},
   "outputs": [
    {
     "name": "stdout",
     "output_type": "stream",
     "text": [
      "{'a': 100, 'b': 200, 'c': 300, 'd': 300, 'e': 200, 'f': 400}\n"
     ]
    }
   ],
   "source": [
    "#  Write a Python script to merge two Python dictionaries\n",
    "\n",
    "d1 = {'a': 100, 'b': 200, 'c':300}\n",
    "d2 = {'d': 300, 'e': 200, 'f':400}\n",
    "for i in d2:\n",
    "    d1.setdefault(i,d2[i])\n",
    "print(d1)"
   ]
  },
  {
   "cell_type": "code",
   "execution_count": 66,
   "id": "d18c632e",
   "metadata": {},
   "outputs": [
    {
     "name": "stdout",
     "output_type": "stream",
     "text": [
      "{'tree': 23, 4: 99, 3.33: 'car'}\n"
     ]
    }
   ],
   "source": [
    "#  Write a Python program to map two lists into a dictionary\n",
    "\n",
    "key=['tree',4,3.33]\n",
    "value=[23,99,'car']\n",
    "ans={}\n",
    "for i in range(len(key)):\n",
    "    ans.setdefault(key[i],value[i])\n",
    "\n",
    "print(ans)"
   ]
  },
  {
   "cell_type": "code",
   "execution_count": 74,
   "id": "447f259b",
   "metadata": {},
   "outputs": [
    {
     "name": "stdout",
     "output_type": "stream",
     "text": [
      "{'a': 400, 'b': 200, 'd': 400, 'c': 300}\n"
     ]
    }
   ],
   "source": [
    "#  Write a Python program to combine two dictionary adding values for\n",
    "# common keys.\n",
    "# o d1 = {'a': 100, 'b': 200, 'c':300}\n",
    "# o d2 = {'a': 300, 'b': 200,’d’:400}\n",
    "\n",
    "\n",
    "d1 = {'a': 100, 'b': 200, 'c':300}\n",
    "d2 = {'a': 300, 'b': 200,'d':400}\n",
    "ans={}\n",
    "for i in d1:\n",
    "    for j in d2:\n",
    "        if i==j:\n",
    "            ans.setdefault(i,d1[i]+d2[j])\n",
    "        else:\n",
    "            ans.setdefault(i,d1[i])\n",
    "            ans.setdefault(j,d2[j])\n",
    "            \n",
    "print(ans)"
   ]
  },
  {
   "cell_type": "code",
   "execution_count": 44,
   "id": "5ec6a164",
   "metadata": {},
   "outputs": [
    {
     "name": "stdout",
     "output_type": "stream",
     "text": [
      "{'a': 100, 'b': 200, 'd': 100, 'e': 200}\n"
     ]
    }
   ],
   "source": [
    "#  Write a Python program to print all unique values in a dictionary.\n",
    "\n",
    "dict1 = {'a': 100, 'b': 200, 'c':300 ,'d':100 ,'e':200}\n",
    "list1=[]\n",
    "list2=[]\n",
    "ans={}\n",
    "for i in dict1:\n",
    "    list1.append(dict1[i])\n",
    "    \n",
    "for i in list1:\n",
    "    if list1.count(i)>=2:\n",
    "        list2.append(i)\n",
    "\n",
    "for i in dict1:\n",
    "    if dict1[i] in list2:\n",
    "        ans.setdefault(i,dict1[i])\n",
    "\n",
    "print(ans)"
   ]
  },
  {
   "cell_type": "code",
   "execution_count": 20,
   "id": "0fcf1c01",
   "metadata": {},
   "outputs": [
    {
     "name": "stdout",
     "output_type": "stream",
     "text": [
      "[(1, 6), (2, 7), (3, 8), (4, 9)]\n"
     ]
    }
   ],
   "source": [
    "#  Why Do You Use the Zip () Method in Python?\n",
    "\n",
    "a=[1,2,3,4]\n",
    "b=[6,7,8,9]\n",
    "print(list(zip(a,b)))"
   ]
  },
  {
   "cell_type": "code",
   "execution_count": 64,
   "id": "5a4d2b80",
   "metadata": {},
   "outputs": [
    {
     "name": "stdout",
     "output_type": "stream",
     "text": [
      "ac\n",
      "ad\n",
      "bc\n",
      "bd\n"
     ]
    }
   ],
   "source": [
    "#  Write a Python program to create and display all combinations of letters,\n",
    "# selecting each letter from a different key in a dictionary.\n",
    "\n",
    "# o Sample data: {'1': ['a','b'], '2': ['c','d']}\n",
    "# o Expected Output:\n",
    "# o ac ad bc bd\n",
    "list1=[]\n",
    "dict1={'1': ['a','b'], '2': ['c','d']}\n",
    "\n",
    "list1=list(dict1.values())\n",
    "for i in range(len(list1)):\n",
    "    for j in range(len(list1)):\n",
    "        print(list1[0][i]+list1[1][j])\n",
    "    "
   ]
  },
  {
   "cell_type": "code",
   "execution_count": 74,
   "id": "c2dd2bbf",
   "metadata": {},
   "outputs": [
    {
     "name": "stdout",
     "output_type": "stream",
     "text": [
      "[12, 23, 67]\n"
     ]
    }
   ],
   "source": [
    "# Write a Python program to find the highest 3 values in a dictionary\n",
    "dict1={'tree':23 ,23:12 ,2.34:11 ,'car':67 ,8.89:1}\n",
    "list1=list(dict1.values())\n",
    "list1.sort()\n",
    "print(list1[-3:])"
   ]
  },
  {
   "cell_type": "code",
   "execution_count": 5,
   "id": "6d5f928d",
   "metadata": {},
   "outputs": [
    {
     "name": "stdout",
     "output_type": "stream",
     "text": [
      "{'item1': 1150, 'item2': 300}\n"
     ]
    }
   ],
   "source": [
    "#  Write a Python program to combine values in python list of dictionaries.\n",
    "# Sample data: [{'item': 'item1', 'amount': 400}, {'item': 'item2', 'amount':\n",
    "# 300},\n",
    "# o {'item': 'item1', 'amount': 750}]\n",
    "# o Expected Output: Counter ({'item1': 1150, 'item2': 300})\n",
    "list1=[{'item': 'item1', 'amount': 400}, {'item': 'item2', 'amount':\n",
    "300},{'item': 'item1', 'amount': 750}]\n",
    "\n",
    "dict1={}\n",
    "for i in list1:\n",
    "    if i['item'] in dict1.keys():\n",
    "        value=dict1[i['item']]\n",
    "        dict1.pop(i['item'])\n",
    "        dict1.setdefault(i['item'],value+i['amount'])\n",
    "    else:\n",
    "        dict1.setdefault(i['item'],i['amount'])\n",
    "print(dict(sorted(dict1.items(),key=lambda x: x[0][-1])))"
   ]
  },
  {
   "cell_type": "code",
   "execution_count": 25,
   "id": "780bc5d4",
   "metadata": {},
   "outputs": [
    {
     "name": "stdout",
     "output_type": "stream",
     "text": [
      "{'a': 2, 'e': 2, 'r': 1, 'o': 1, 'p': 1, 'l': 1, 'n': 1}\n"
     ]
    }
   ],
   "source": [
    "#  Write a Python program to create a dictionary from a string.\n",
    "str1=str(input())\n",
    "dict1={}\n",
    "for i in str1:\n",
    "    if i in dict1:\n",
    "        dict1[i]+=1\n",
    "    else:\n",
    "        dict1[i]=1\n",
    "\n",
    "print(dict1)\n"
   ]
  },
  {
   "cell_type": "code",
   "execution_count": 28,
   "id": "0c00f3aa",
   "metadata": {},
   "outputs": [
    {
     "name": "stdout",
     "output_type": "stream",
     "text": [
      "5\n",
      "120\n"
     ]
    }
   ],
   "source": [
    "#  Write a Python function to calculate the factorial of a number (a nonnegative integer)\n",
    "\n",
    "no=int(input())\n",
    "ans=1\n",
    "for i in range(1,no+1):\n",
    "    ans=ans*i\n",
    "print(ans)"
   ]
  },
  {
   "cell_type": "code",
   "execution_count": 38,
   "id": "ce791654",
   "metadata": {},
   "outputs": [
    {
     "name": "stdout",
     "output_type": "stream",
     "text": [
      "yes in range\n"
     ]
    }
   ],
   "source": [
    "#  Write a Python function to check whether a number is in a given range\n",
    "rang=[3,9]\n",
    "no=5\n",
    "if no>=rang[0] and no<=rang[1]:\n",
    "    print('yes in range')\n",
    "else:\n",
    "    print('not in range')"
   ]
  },
  {
   "cell_type": "code",
   "execution_count": 47,
   "id": "01e3b126",
   "metadata": {},
   "outputs": [
    {
     "name": "stdout",
     "output_type": "stream",
     "text": [
      "22\n",
      "no it is not prefect nnumber\n"
     ]
    }
   ],
   "source": [
    "#  Write a Python function to check whether a number is perfect or not.\n",
    "\n",
    "no=int(input())\n",
    "ans=0\n",
    "for i in range(1,no):\n",
    "    if no%i==0:\n",
    "        ans=ans+i\n",
    "        \n",
    "if ans==no:\n",
    "    print('yes it is prefect nnumber')\n",
    "else:\n",
    "    print('no it is not prefect nnumber')"
   ]
  },
  {
   "cell_type": "code",
   "execution_count": 51,
   "id": "2fdc6389",
   "metadata": {},
   "outputs": [
    {
     "name": "stdout",
     "output_type": "stream",
     "text": [
      "takat\n",
      "yes it is palindrom\n"
     ]
    }
   ],
   "source": [
    "#  Write a Python function that checks whether a passed string is palindrome\n",
    "# or not\n",
    "\n",
    "str1=str(input())\n",
    "if str1==str1[::-1]:\n",
    "    print('yes it is palindrom')\n",
    "else:\n",
    "    print('no it is not palindrom')"
   ]
  },
  {
   "cell_type": "code",
   "execution_count": null,
   "id": "fc70d83a",
   "metadata": {},
   "outputs": [],
   "source": [
    "#  What is lambda function in python? What we call a function \n",
    "# which is incomplete version of a function?\n",
    "\n",
    "\n",
    "# lambda function is Anonymonus function which has MULTIPLE PARAMETER BUT SINGLE EXPREESSION(returns something)\n",
    "# stub"
   ]
  },
  {
   "cell_type": "code",
   "execution_count": null,
   "id": "681fc4e0",
   "metadata": {},
   "outputs": [],
   "source": [
    "#  How Many Basic Types Of Functions Are Available In Python?\n",
    "\n",
    "# two type Build-in function and User-define function"
   ]
  },
  {
   "cell_type": "code",
   "execution_count": 62,
   "id": "81a683f5",
   "metadata": {},
   "outputs": [
    {
     "name": "stdout",
     "output_type": "stream",
     "text": [
      "1\n"
     ]
    }
   ],
   "source": [
    "#  How can you pick a random item from a list or tuple?\n",
    "\n",
    "import random \n",
    "a=[1,2,3,4,5]\n",
    "print(a[random.randrange(len(a))])"
   ]
  },
  {
   "cell_type": "code",
   "execution_count": null,
   "id": "56dc1220",
   "metadata": {},
   "outputs": [],
   "source": [
    "#  How can you pick a random item from a range?\n",
    "\n",
    "import random \n",
    "a=[1,2,3,4,5]\n",
    "print(a[random.randrange(len(a))])"
   ]
  },
  {
   "cell_type": "code",
   "execution_count": 63,
   "id": "319366ff",
   "metadata": {},
   "outputs": [
    {
     "name": "stdout",
     "output_type": "stream",
     "text": [
      "94\n"
     ]
    }
   ],
   "source": [
    "#  How can you get a random number in python?\n",
    "\n",
    "import random \n",
    "print(random.randint(0,100))"
   ]
  },
  {
   "cell_type": "code",
   "execution_count": 79,
   "id": "46b75396",
   "metadata": {},
   "outputs": [
    {
     "name": "stdout",
     "output_type": "stream",
     "text": [
      "0.9560342718892494\n"
     ]
    }
   ],
   "source": [
    "#  How will you set the starting value in generating random numbers?\n",
    "\n",
    "import random\n",
    "\n",
    "random.seed(2)\n",
    "print(random.random())"
   ]
  },
  {
   "cell_type": "code",
   "execution_count": 101,
   "id": "d2ab2a26",
   "metadata": {},
   "outputs": [
    {
     "name": "stdout",
     "output_type": "stream",
     "text": [
      "[3, 1, 5, 2, 4]\n"
     ]
    }
   ],
   "source": [
    "#  How will you randomizes the items of a list in place?\n",
    "import random\n",
    "a=[1,2,3,4,5]\n",
    "random.shuffle(a)\n",
    "print(a)"
   ]
  },
  {
   "cell_type": "code",
   "execution_count": null,
   "id": "b106d972",
   "metadata": {},
   "outputs": [],
   "source": [
    "#  Write a Python program to read a random line from a file."
   ]
  },
  {
   "cell_type": "code",
   "execution_count": null,
   "id": "5a57af5a",
   "metadata": {},
   "outputs": [],
   "source": [
    "#  Write a Python program to convert degree to radian\n",
    "degree = float(input())\n",
    "radian = degree*(3.14/180)\n",
    "print(radian)\n"
   ]
  },
  {
   "cell_type": "code",
   "execution_count": null,
   "id": "593d9d2f",
   "metadata": {},
   "outputs": [],
   "source": [
    "#  Write a Python program to calculate the area of a trapezoid\n",
    "\n",
    "base_1 = 5\n",
    "base_2 = 6\n",
    "height = float(input(\"Height of trapezoid: \"))\n",
    "base_1 = float(input('Base one value: '))\n",
    "base_2 = float(input('Base two value: '))\n",
    "area = ((base_1 + base_2) / 2) * height\n",
    "print(\"Area is:\", area)"
   ]
  },
  {
   "cell_type": "code",
   "execution_count": null,
   "id": "6c4f37ae",
   "metadata": {},
   "outputs": [],
   "source": [
    "#  Write a Python program to calculate the area of a parallelogram\n",
    "\n",
    "base = float(input('Length of base: '))\n",
    "height = float(input('Measurement of height: '))\n",
    "area = base * height\n",
    "print(\"Area is: \", area)"
   ]
  },
  {
   "cell_type": "code",
   "execution_count": null,
   "id": "8994af3b",
   "metadata": {},
   "outputs": [],
   "source": [
    "#  Write a Python program to calculate surface volume and area of a cylinder\n",
    "\n",
    "pi=22/7\n",
    "height = float(input('Height of cylinder: '))\n",
    "radian = float(input('Radius of cylinder: '))\n",
    "volume = pi * radian * radian * height\n",
    "sur_area = ((2*pi*radian) * height) + ((pi*radian**2)*2)\n",
    "print(\"Volume is: \", volume)\n",
    "print(\"Surface Area is: \", sur_area)"
   ]
  },
  {
   "cell_type": "code",
   "execution_count": null,
   "id": "56a5f038",
   "metadata": {},
   "outputs": [],
   "source": [
    "#  Write a Python program to returns sum of all divisors of a number\n",
    "\n",
    "def sum_div(number):\n",
    "    divisors = [1]\n",
    "    for i in range(2, number):\n",
    "        if (number % i)==0:\n",
    "            divisors.append(i)\n",
    "    return sum(divisors)\n",
    "print(sum_div(8))\n",
    "print(sum_div(12))"
   ]
  },
  {
   "cell_type": "code",
   "execution_count": 102,
   "id": "7603091a",
   "metadata": {},
   "outputs": [
    {
     "name": "stdout",
     "output_type": "stream",
     "text": [
      "5\n",
      "1\n"
     ]
    }
   ],
   "source": [
    "#  Write a Python program to find the maximum and minimum numbers\n",
    "\n",
    "a=[1,2,3,4,5]\n",
    "print(max(a))\n",
    "print(min(a))"
   ]
  },
  {
   "cell_type": "code",
   "execution_count": null,
   "id": "4a13643d",
   "metadata": {},
   "outputs": [],
   "source": [
    "# from the specified decimal numbers."
   ]
  }
 ],
 "metadata": {
  "kernelspec": {
   "display_name": "Python 3 (ipykernel)",
   "language": "python",
   "name": "python3"
  },
  "language_info": {
   "codemirror_mode": {
    "name": "ipython",
    "version": 3
   },
   "file_extension": ".py",
   "mimetype": "text/x-python",
   "name": "python",
   "nbconvert_exporter": "python",
   "pygments_lexer": "ipython3",
   "version": "3.9.12"
  }
 },
 "nbformat": 4,
 "nbformat_minor": 5
}
