{
 "cells": [
  {
   "cell_type": "code",
   "execution_count": null,
   "id": "e4698a64",
   "metadata": {},
   "outputs": [],
   "source": [
    "# What is File function in python? What is keywords to create and write file.\n",
    "\n",
    "# to create\n",
    "# open('tak.txt','x')\n",
    "\n",
    "# to write\n",
    "# open('tak.txt','w')"
   ]
  },
  {
   "cell_type": "code",
   "execution_count": null,
   "id": "7b80fd8c",
   "metadata": {},
   "outputs": [],
   "source": [
    "# Write a Python program to read an entire text file.\n",
    "# a=open('tak.txt','r')\n",
    "# print(a.readlines())"
   ]
  },
  {
   "cell_type": "code",
   "execution_count": null,
   "id": "ba36bc8a",
   "metadata": {},
   "outputs": [],
   "source": [
    "# Write a Python program to append text to a file and display the text\n",
    "\n",
    "# a=open('tak.txt','a')\n",
    "# print(a.readlines())"
   ]
  },
  {
   "cell_type": "code",
   "execution_count": null,
   "id": "edf32c98",
   "metadata": {},
   "outputs": [],
   "source": [
    "# Write a Python program to read first n lines of a file.\n",
    "\n",
    "# a=open('tak.txt','a')\n",
    "# print(a.head(5))"
   ]
  },
  {
   "cell_type": "code",
   "execution_count": null,
   "id": "15c29f70",
   "metadata": {},
   "outputs": [],
   "source": [
    "#  Write a Python program to read last n lines of a file.\n",
    "\n",
    "# a=open('tak.txt','a')\n",
    "# print(a.tail(5))"
   ]
  },
  {
   "cell_type": "code",
   "execution_count": null,
   "id": "393d1dd7",
   "metadata": {},
   "outputs": [],
   "source": [
    "# Write a Python program to read a file line by line and store it into a list\n",
    "\n",
    "a=open('tak.txt','r')\n",
    "list1=list(a.readlines())"
   ]
  },
  {
   "cell_type": "code",
   "execution_count": null,
   "id": "41c0bc51",
   "metadata": {},
   "outputs": [],
   "source": [
    "# Write a Python program to read a file line by line store it into a variable.\n",
    "\n",
    "a=open('tak.txt','r')\n",
    "list1=list(a.readlines())"
   ]
  },
  {
   "cell_type": "code",
   "execution_count": null,
   "id": "6fc5824e",
   "metadata": {},
   "outputs": [],
   "source": [
    "# Write a python program to find the longest words\n",
    "\n",
    "a=open('tak.txt','r')\n",
    "list1=list(a.readlines())\n",
    "print(max(len(list1))[-2])"
   ]
  },
  {
   "cell_type": "code",
   "execution_count": null,
   "id": "8cc4b52b",
   "metadata": {},
   "outputs": [],
   "source": [
    "# Write a Python program to count the number of lines in a text file.\n",
    "\n",
    "a=open('tak.txt','r')\n",
    "print(a.size())"
   ]
  },
  {
   "cell_type": "code",
   "execution_count": 2,
   "id": "529a1b01",
   "metadata": {},
   "outputs": [
    {
     "ename": "FileNotFoundError",
     "evalue": "[Errno 2] No such file or directory: 'tak.txt'",
     "output_type": "error",
     "traceback": [
      "\u001b[1;31m---------------------------------------------------------------------------\u001b[0m",
      "\u001b[1;31mFileNotFoundError\u001b[0m                         Traceback (most recent call last)",
      "Input \u001b[1;32mIn [2]\u001b[0m, in \u001b[0;36m<cell line: 3>\u001b[1;34m()\u001b[0m\n\u001b[0;32m      1\u001b[0m \u001b[38;5;66;03m# Write a Python program to count the frequency of words in a file\u001b[39;00m\n\u001b[1;32m----> 3\u001b[0m a\u001b[38;5;241m=\u001b[39m\u001b[38;5;28;43mopen\u001b[39;49m\u001b[43m(\u001b[49m\u001b[38;5;124;43m'\u001b[39;49m\u001b[38;5;124;43mtak.txt\u001b[39;49m\u001b[38;5;124;43m'\u001b[39;49m\u001b[43m,\u001b[49m\u001b[38;5;124;43m'\u001b[39;49m\u001b[38;5;124;43mr\u001b[39;49m\u001b[38;5;124;43m'\u001b[39;49m\u001b[43m)\u001b[49m\n\u001b[0;32m      4\u001b[0m list1\u001b[38;5;241m=\u001b[39m[]\n\u001b[0;32m      5\u001b[0m dict1\u001b[38;5;241m=\u001b[39m{}\n",
      "\u001b[1;31mFileNotFoundError\u001b[0m: [Errno 2] No such file or directory: 'tak.txt'"
     ]
    }
   ],
   "source": [
    "# Write a Python program to count the frequency of words in a file\n",
    "\n",
    "a=open('tak.txt','r')\n",
    "list1=[]\n",
    "dict1={}\n",
    "list1=list(a.readlines()[-2].split(' '))\n",
    "for i in list1:\n",
    "    if i not in dict2:\n",
    "        dict1=i\n",
    "    else:\n",
    "        dict1+=1"
   ]
  },
  {
   "cell_type": "code",
   "execution_count": null,
   "id": "60c7e100",
   "metadata": {},
   "outputs": [],
   "source": [
    "# Write a Python program to write a list to a file.\n",
    "\n",
    "a=open('tak.txt','a')\n",
    "list1=['car\\nbus\\ntruck']\n",
    "a.write(list1)"
   ]
  },
  {
   "cell_type": "code",
   "execution_count": null,
   "id": "7cbd67cc",
   "metadata": {},
   "outputs": [],
   "source": [
    "# Write a Python program to copy the contents of a file to another file.\n",
    "\n",
    "a=open('tak.txt','r')\n",
    "b=open('tak.txt','w')\n",
    "b.write(a.readlines())"
   ]
  },
  {
   "cell_type": "code",
   "execution_count": null,
   "id": "2fa311be",
   "metadata": {},
   "outputs": [],
   "source": [
    "#  Explain Exception handling? What is an Error in Python?\n",
    "\n",
    "#  The most common reason of an error in a Python program is when a certain statement is not in accordance with the prescribed usage"
   ]
  },
  {
   "cell_type": "code",
   "execution_count": null,
   "id": "1939e2df",
   "metadata": {},
   "outputs": [],
   "source": [
    "# How many except statements can a try-except block have? Name Some\n",
    "# built-in exception classes:\n",
    "\n",
    "#try on time and except unfinite times Ex:-IndexError, Name Error ,name Error"
   ]
  },
  {
   "cell_type": "code",
   "execution_count": null,
   "id": "674eac04",
   "metadata": {},
   "outputs": [],
   "source": [
    "# When will the else part of try-except-else be executed?\n",
    "\n",
    "# part like to close a file of a statement"
   ]
  },
  {
   "cell_type": "code",
   "execution_count": null,
   "id": "acc355c1",
   "metadata": {},
   "outputs": [],
   "source": [
    "# Can one block of except statements handle multiple exception?\n",
    "\n",
    "# NO"
   ]
  },
  {
   "cell_type": "code",
   "execution_count": null,
   "id": "84a824f8",
   "metadata": {},
   "outputs": [],
   "source": [
    "# When is the finally block executed?\n",
    "\n",
    "# when Except block is executaed or not after"
   ]
  },
  {
   "cell_type": "code",
   "execution_count": 4,
   "id": "a9182b83",
   "metadata": {},
   "outputs": [],
   "source": [
    "# What happens when „1‟== 1 is executed?\n",
    "\n",
    "# Suntax error"
   ]
  },
  {
   "cell_type": "code",
   "execution_count": 9,
   "id": "ee98ec1b",
   "metadata": {},
   "outputs": [
    {
     "name": "stdout",
     "output_type": "stream",
     "text": [
      "0\n",
      "Enter again\n",
      "3\n",
      "0.3\n",
      "Thank u\n"
     ]
    }
   ],
   "source": [
    "# How Do You Handle Exceptions With Try/Except/Finally In Python?\n",
    "# Explain with coding snippets.\n",
    "\n",
    "try:\n",
    "    n=int(input())\n",
    "    print(10/0)\n",
    "except:\n",
    "    print('Enter again')\n",
    "    n=int(input())\n",
    "    print(n/10)\n",
    "finally:\n",
    "    print('Thank u')"
   ]
  },
  {
   "cell_type": "code",
   "execution_count": 17,
   "id": "d2d68fcb",
   "metadata": {},
   "outputs": [
    {
     "name": "stdout",
     "output_type": "stream",
     "text": [
      "2\n",
      "Enter again\n",
      "3\n",
      "odd\n"
     ]
    }
   ],
   "source": [
    "# Write python program that user to enter only odd numbers, else will raise\n",
    "# an exception\n",
    "\n",
    "try:\n",
    "    n=int(input())\n",
    "    if n%2==0:\n",
    "        print(10/0)\n",
    "except:\n",
    "    print('Enter again')\n",
    "    n=int(input())\n",
    "    if n%2!=0:\n",
    "        print('odd')"
   ]
  },
  {
   "cell_type": "code",
   "execution_count": null,
   "id": "52e4c650",
   "metadata": {},
   "outputs": [],
   "source": [
    "# What are oops concepts? Is multiple inheritance supported in jav\n",
    "\n",
    "# Object-Oriented Programming is a methodology or paradigm to design a program using classes and objects. It simplifies software development and maintenance by providing some concepts:\n",
    "# The Java programming language supports multiple inheritance of type, which is the ability of a class to implement more than one interface\n"
   ]
  },
  {
   "cell_type": "code",
   "execution_count": 23,
   "id": "0a1206ce",
   "metadata": {},
   "outputs": [
    {
     "name": "stdout",
     "output_type": "stream",
     "text": [
      "hello\n"
     ]
    }
   ],
   "source": [
    "# How to Define a Class in Python? What Is Self? Give An Example Of A\n",
    "# Python Class\n",
    " \n",
    "class stu:\n",
    "    def car(self):\n",
    "        print('hello')\n",
    "a1=stu()\n",
    "a1.car()"
   ]
  },
  {
   "cell_type": "code",
   "execution_count": 25,
   "id": "9d2a87cf",
   "metadata": {},
   "outputs": [
    {
     "name": "stdout",
     "output_type": "stream",
     "text": [
      "area of rectangle = 6\n"
     ]
    }
   ],
   "source": [
    "# Write a Python class named Rectangle constructed by a length and width\n",
    "# and a method which will compute the area of a rectangle\n",
    "\n",
    "class rectangle:\n",
    "    def area(l,b):\n",
    "        print('area of rectangle =',l*b)\n",
    "\n",
    "a1=rectangle\n",
    "a1.area(2,3)"
   ]
  },
  {
   "cell_type": "code",
   "execution_count": 31,
   "id": "c1b8ba92",
   "metadata": {},
   "outputs": [],
   "source": [
    "# Write a Python class named Circle constructed by a radius and two\n",
    "# methods which will compute the area and the perimeter of a circle\n",
    "\n",
    "class circle:\n",
    "    def area(r):\n",
    "        print('area of circle =',3.14*(r**2))\n",
    "    def perimeter(r):\n",
    "        print('area of circle =',(2*3.14)*r)\n",
    "        \n",
    "a1=circle()\n",
    "a1.area(3)\n",
    "a1.perimeter(4)"
   ]
  },
  {
   "cell_type": "code",
   "execution_count": 39,
   "id": "61d70aaa",
   "metadata": {},
   "outputs": [
    {
     "data": {
      "text/plain": [
       "100"
      ]
     },
     "execution_count": 39,
     "metadata": {},
     "output_type": "execute_result"
    }
   ],
   "source": [
    "# Explain Inheritance in Python with an example? What is init? Or What Is\n",
    "# A Constructor In Python?\n",
    "\n",
    "class a:\n",
    "    tree=20\n",
    "    \n",
    "class b(a):\n",
    "    car=40\n",
    "    \n",
    "class c(b):\n",
    "    bus=100\n",
    "    \n",
    "a1=c\n",
    "a1.tree\n",
    "a1.car\n",
    "a1.bus"
   ]
  },
  {
   "cell_type": "code",
   "execution_count": null,
   "id": "f7e43d46",
   "metadata": {},
   "outputs": [],
   "source": []
  },
  {
   "cell_type": "code",
   "execution_count": null,
   "id": "70be30a8",
   "metadata": {},
   "outputs": [],
   "source": []
  },
  {
   "cell_type": "code",
   "execution_count": null,
   "id": "9065f59f",
   "metadata": {},
   "outputs": [],
   "source": []
  }
 ],
 "metadata": {
  "kernelspec": {
   "display_name": "Python 3 (ipykernel)",
   "language": "python",
   "name": "python3"
  },
  "language_info": {
   "codemirror_mode": {
    "name": "ipython",
    "version": 3
   },
   "file_extension": ".py",
   "mimetype": "text/x-python",
   "name": "python",
   "nbconvert_exporter": "python",
   "pygments_lexer": "ipython3",
   "version": "3.9.12"
  }
 },
 "nbformat": 4,
 "nbformat_minor": 5
}
